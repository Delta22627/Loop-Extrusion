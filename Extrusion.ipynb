{
 "cells": [
  {
   "cell_type": "code",
   "execution_count": 1,
   "id": "a410ef1a-38b3-4c59-8d5f-b523d851fb53",
   "metadata": {},
   "outputs": [
    {
     "name": "stderr",
     "output_type": "stream",
     "text": [
      "/Users/delta/.pyenv/versions/3.9.6/lib/python3.9/site-packages/pandas/compat/__init__.py:124: UserWarning: Could not import the lzma module. Your installed Python is incomplete. Attempting to use lzma compression will result in a RuntimeError.\n",
      "  warnings.warn(msg)\n"
     ]
    }
   ],
   "source": [
    "import numpy as np\n",
    "import matplotlib.pyplot as plt\n",
    "import seaborn as sns\n",
    "from multiprocessing import Pool\n",
    "import pickle\n",
    "from enum import Enum"
   ]
  },
  {
   "cell_type": "code",
   "execution_count": 2,
   "id": "018ee82c-4fbf-4c23-9a08-b90ff922e924",
   "metadata": {},
   "outputs": [],
   "source": [
    "#make observer"
   ]
  },
  {
   "cell_type": "code",
   "execution_count": 33,
   "id": "2525e024-3035-4675-96ea-3c531adbb5af",
   "metadata": {},
   "outputs": [],
   "source": [
    "class Genome:\n",
    "        \n",
    "    def __init__(self, seed, length=10000, cohesin_stopper_p=0.1, condensin_stopper_p=0.3):\n",
    "        np.random.default_rng(seed)\n",
    "        no_stopper_p = 1 - cohesin_stopper_p - condensin_stopper_p\n",
    "        self.array = np.random.choice([0,1,2], size=length, p=[no_stopper_p, cohesin_stopper_p, condensin_stopper_p])\n",
    "        self.occupited = {i: False for i in range(length)}\n",
    "        \n",
    "        \n",
    "    def get_length(self):\n",
    "        return len(self.array)\n",
    "        \n",
    "    def get_array(self):\n",
    "        return self.array\n",
    "    \n",
    "    def is_occupited(self, index):\n",
    "        return self.occupited[index]\n",
    "    \n",
    "    def update_occupited(self, index, status=True):\n",
    "        self.occupited[index] = status\n",
    "        \n",
    "    def __str__(self):\n",
    "        return str(self.array)\n",
    "            \n",
    "        "
   ]
  },
  {
   "cell_type": "code",
   "execution_count": 4,
   "id": "8f5e6a0a-3692-49ff-8ad0-87edc4aa5c91",
   "metadata": {},
   "outputs": [
    {
     "data": {
      "text/plain": [
       "False"
      ]
     },
     "execution_count": 4,
     "metadata": {},
     "output_type": "execute_result"
    }
   ],
   "source": [
    "np.set_printoptions(threshold=np.inf)\n",
    "g = Genome(1)\n",
    "g.is_occupited(5)"
   ]
  },
  {
   "cell_type": "code",
   "execution_count": 5,
   "id": "44195389-ff33-4b68-9840-22b0cd0b7ca0",
   "metadata": {},
   "outputs": [
    {
     "data": {
      "text/plain": [
       "True"
      ]
     },
     "execution_count": 5,
     "metadata": {},
     "output_type": "execute_result"
    }
   ],
   "source": [
    "g.update_occupited(5)\n",
    "g.is_occupited(5)"
   ]
  },
  {
   "cell_type": "code",
   "execution_count": 6,
   "id": "883e5e04-dc2f-48b0-8dc6-61f4fd7deba2",
   "metadata": {},
   "outputs": [],
   "source": [
    "class Extruder:\n",
    "    \n",
    "    def __init__(self, stalling_prob):\n",
    "        self.dissociate_prob = 1 - stalling_prob\n",
    "        self.stalling_prob = stalling_prob\n",
    "        \n",
    "        self.active = True\n",
    "        self.is_left = True\n",
    "        self.is_right = True\n",
    "        self.bind = False\n",
    "        \n",
    "        self.current_left = None\n",
    "        self.current_right = None\n",
    "        \n",
    "    def set_left(self, i_left):\n",
    "        if self.is_left:\n",
    "            self.current_left = i_left\n",
    "        \n",
    "    def set_right(self, i_right):\n",
    "        if self.is_right:\n",
    "            self.current_left = i_right\n",
    "            \n",
    "    def is_active(self):\n",
    "        if self.is_left or self.is_right:\n",
    "            self.active = True\n",
    "        else:\n",
    "            self.active = False\n",
    "        return self.active\n",
    "        \n",
    "    def is_bind(self):\n",
    "        return self.bind\n",
    "    \n",
    "    def bound(self):\n",
    "        self.bind = True\n",
    "        \n",
    "    def set_position(self, i_left, i_right):\n",
    "        if self.is_left:\n",
    "            self.current_left = i_left\n",
    "        if self.is_right:\n",
    "            self.current_right = i_right\n",
    "        else:\n",
    "            None\n",
    "        \n",
    "    def get_position(self):\n",
    "        return self.current_left, self.current_right\n",
    "    "
   ]
  },
  {
   "cell_type": "code",
   "execution_count": 7,
   "id": "ea14d167-0d7a-4e4c-a7c6-cd284697d541",
   "metadata": {},
   "outputs": [],
   "source": [
    "class Cohesin(Extruder):\n",
    "    \n",
    "    def __str__(self):\n",
    "        return \"Cohesin at {}\".format(self.get_position())"
   ]
  },
  {
   "cell_type": "code",
   "execution_count": 8,
   "id": "8f5d6340-e2f7-49bb-9fae-708aa1aad32c",
   "metadata": {},
   "outputs": [],
   "source": [
    "class Condensin(Extruder):\n",
    "    \n",
    "    def __str__(self):\n",
    "        return \"Condensin at {}\".format(self.get_position())"
   ]
  },
  {
   "cell_type": "code",
   "execution_count": 9,
   "id": "4bcd93fb-13c2-4caa-b695-b62851a6afac",
   "metadata": {},
   "outputs": [],
   "source": [
    "cohesin = Cohesin(0)"
   ]
  },
  {
   "cell_type": "code",
   "execution_count": 10,
   "id": "9bc5e5e3-e2bd-4116-ae42-83f01ba5736a",
   "metadata": {},
   "outputs": [
    {
     "name": "stdout",
     "output_type": "stream",
     "text": [
      "Cohesin at (None, None)\n"
     ]
    }
   ],
   "source": [
    "print(cohesin)"
   ]
  },
  {
   "cell_type": "code",
   "execution_count": 11,
   "id": "b0add262-fba9-4e39-b7d8-b45882615096",
   "metadata": {},
   "outputs": [],
   "source": [
    "class ExtruderType(Enum):\n",
    "    COHESIN = 1\n",
    "    CONDENSIN = 2"
   ]
  },
  {
   "cell_type": "code",
   "execution_count": 12,
   "id": "2df744c5-66eb-42a9-980f-7aaa869c0376",
   "metadata": {},
   "outputs": [
    {
     "data": {
      "text/plain": [
       "<ExtruderType.COHESIN: 1>"
      ]
     },
     "execution_count": 12,
     "metadata": {},
     "output_type": "execute_result"
    }
   ],
   "source": [
    "ExtruderType.COHESIN"
   ]
  },
  {
   "cell_type": "code",
   "execution_count": 13,
   "id": "b120b4a2-93db-418d-a267-21c89d39000c",
   "metadata": {},
   "outputs": [],
   "source": [
    "class ExtruderFactory:\n",
    "    \n",
    "    def get(e_type, stalling_prob=1):\n",
    "        \n",
    "        return {\n",
    "            ExtruderType.COHESIN: Cohesin(stalling_prob),\n",
    "            ExtruderType.CONDENSIN: Condensin( stalling_prob)\n",
    "        }.get(e_type,0)\n",
    "            "
   ]
  },
  {
   "cell_type": "code",
   "execution_count": 14,
   "id": "09010386-3901-4583-9426-1e0993b98df0",
   "metadata": {},
   "outputs": [
    {
     "data": {
      "text/plain": [
       "<__main__.Cohesin at 0x14a8abf10>"
      ]
     },
     "execution_count": 14,
     "metadata": {},
     "output_type": "execute_result"
    }
   ],
   "source": [
    "ExtruderFactory.get(ExtruderType.COHESIN, 0)"
   ]
  },
  {
   "cell_type": "code",
   "execution_count": 25,
   "id": "409a7d73-15e5-4131-9717-aa35998a479b",
   "metadata": {},
   "outputs": [],
   "source": [
    "class Simulator:\n",
    "    \n",
    "    def __init__(self, genome, seed, n_extruders=1000, option=\"cohesin\"): \n",
    "        np.random.seed(seed)\n",
    "        self.genome = genome\n",
    "        self.genome_length = genome.get_length()\n",
    "        self.extruder_factory = ExtruderFactory\n",
    "        self.extruders = self._check_option(n_extruders, option)\n",
    "        self.extruders_per_i = int(n_extruders)\n",
    "        self.bound = list()\n",
    "        self.unbound = list()\n",
    "        self.n_bound = list()\n",
    "        self.n_active = list()\n",
    "        self.time = 0\n",
    "        \n",
    "    def simulate(self, time):\n",
    "        self.time += time\n",
    "        for i in range(time):\n",
    "            self._simulate_one_step(i)\n",
    "            self.n_bound.append(len(self.bound))\n",
    "            self.n_active.append(sum([e.is_active() for e in self.extruders]))\n",
    "    \n",
    "    def plot(self):\n",
    "        ts = [i for i in range(self.time)]\n",
    "        plt.plot(ts, self.n_bound, label=\"bound\")\n",
    "        plt.plot(ts, self.n_active, label=\"active\")\n",
    "#         plt.legend()\n",
    "#         plt.show()\n",
    "#         print(self.n_bound[-1], self.n_active[-1])\n",
    "    \n",
    "    def plot_fold(self):\n",
    "        for i, x in enumerate(self.extruders):\n",
    "            start, end = x.get_position()\n",
    "            if start != None and end != None:\n",
    "                xs = np.linspace(start,end)\n",
    "                ys = [0 for j in range(len(xs))]\n",
    "                plt.plot(xs, ys)\n",
    "            \n",
    "        \n",
    "    def _simulate_one_step(self, i):\n",
    "        if i*self.extruders_per_i < len(self.extruders):\n",
    "            start_sites = self._get_start_sites(self.extruders_per_i)\n",
    "            for site, index in enumerate(range(i*self.extruders_per_i, (i+1)*self.extruders_per_i)):\n",
    "                l_site = start_sites[site]\n",
    "                r_site = l_site + 1\n",
    "                if not (self.genome.is_occupited(l_site) or self.genome.is_occupited(r_site)):\n",
    "                    self.extruders[index].set_position(l_site, r_site)\n",
    "                    self.genome.update_occupited(l_site)\n",
    "                    self.genome.update_occupited(r_site)\n",
    "                    self.extruders[index].bound()\n",
    "                    self.bound.append(index)\n",
    "                else:\n",
    "                    self.unbound.append(index)\n",
    "#         while len(self.unbound) > 0:\n",
    "        start_sites = self._get_start_sites(len(self.unbound))\n",
    "        for site, index in enumerate(self.unbound):\n",
    "            l_site = start_sites[site]\n",
    "            r_site = l_site + 1\n",
    "            extruder = self.extruders[index]\n",
    "            if not (self.genome.is_occupited(l_site) or self.genome.is_occupited(r_site)):\n",
    "                extruder.set_position(l_site, r_site)\n",
    "                self.genome.update_occupited(l_site)\n",
    "                self.genome.update_occupited(r_site)\n",
    "                extruder.bound()\n",
    "                self.bound.append(index)\n",
    "                self.unbound.remove(index)\n",
    "\n",
    "        self._extrude()\n",
    "        \n",
    "    def _extrude(self):\n",
    "        for j in self.bound:\n",
    "                extruder = self.extruders[j]\n",
    "                left, right = extruder.get_position()\n",
    "                n_left = left-1\n",
    "                n_right = right+1\n",
    "                if n_left < 0:\n",
    "                    n_left = self.genome_length-1\n",
    "                if n_right >= self.genome_length:\n",
    "                    n_right = 0\n",
    "                if not self.genome.is_occupited(n_left):\n",
    "                    extruder.set_left(n_left)\n",
    "                    self.genome.update_occupited(n_left)\n",
    "                    self.genome.update_occupited(left, False)\n",
    "                    if self.genome.array[n_left] == 1:\n",
    "                        extruder.is_left = False\n",
    "                else:\n",
    "                    extruder.is_left = False\n",
    "                if not self.genome.is_occupited(n_right):\n",
    "                    extruder.set_right(n_right)\n",
    "                    self.genome.update_occupited(n_right)\n",
    "                    self.genome.update_occupited(right, False)\n",
    "                    if self.genome.array[n_right] == 1:\n",
    "                        extruder.is_right = False\n",
    "                else:\n",
    "                    extruder.is_right = False\n",
    "                extruder.is_active()            \n",
    "    def _check_option(self, n_extruder, option):\n",
    "        choices = {\n",
    "            \"cohesin\" : [self.extruder_factory.get(ExtruderType.COHESIN) for i in range(n_extruder)]\n",
    "        } \n",
    "        return choices[option]\n",
    "        \n",
    "    def _get_start_sites(self,extruders_per_i):\n",
    "        return np.random.randint(0, self.genome_length-2, extruders_per_i)\n",
    "          \n",
    "    \n",
    "            \n",
    "        \n",
    "        \n",
    "    "
   ]
  },
  {
   "cell_type": "code",
   "execution_count": 16,
   "id": "c73517f9-a692-46f0-8146-30ca5e223451",
   "metadata": {},
   "outputs": [
    {
     "data": {
      "image/png": "[encoded data removed]",
      "text/plain": [
       "<Figure size 432x288 with 1 Axes>"
      ]
     },
     "metadata": {
      "needs_background": "light"
     },
     "output_type": "display_data"
    }
   ],
   "source": [
    "for i in range(10):\n",
    "    sim = Simulator(Genome(1),i)\n",
    "    sim.simulate(500)\n",
    "    sim.plot()\n",
    "# plt.legend()\n",
    "plt.show()"
   ]
  },
  {
   "cell_type": "code",
   "execution_count": 34,
   "id": "71284d3a-28ce-4767-a92b-afa3e15a7c69",
   "metadata": {},
   "outputs": [
    {
     "name": "stdout",
     "output_type": "stream",
     "text": [
      "1000\n",
      "764\n"
     ]
    },
    {
     "data": {
      "image/png": "[encoded data removed]",
      "text/plain": [
       "<Figure size 432x288 with 1 Axes>"
      ]
     },
     "metadata": {
      "needs_background": "light"
     },
     "output_type": "display_data"
    }
   ],
   "source": [
    "sim = Simulator(Genome(1),1)\n",
    "sim.simulate(1000)\n",
    "sim.plot()\n",
    "print(sim.n_bound[-1])\n",
    "print(sim.n_active[-1])\n",
    "plt.legend()\n",
    "plt.show()"
   ]
  },
  {
   "cell_type": "code",
   "execution_count": 37,
   "id": "4caf5258-6ff5-4053-81da-1625bf4057f4",
   "metadata": {},
   "outputs": [
    {
     "data": {
      "image/png": "[encoded data removed]",
      "text/plain": [
       "<Figure size 800x240 with 1 Axes>"
      ]
     },
     "metadata": {
      "needs_background": "light"
     },
     "output_type": "display_data"
    }
   ],
   "source": [
    "plt.figure(figsize=(10, 3), dpi=80)\n",
    "sim.plot_fold()"
   ]
  },
  {
   "cell_type": "code",
   "execution_count": null,
   "id": "9ca85863-16f7-42b3-8407-675e6dbe0d4e",
   "metadata": {},
   "outputs": [],
   "source": []
  }
 ],
 "metadata": {
  "kernelspec": {
   "display_name": "Python 3 (ipykernel)",
   "language": "python",
   "name": "python3"
  },
  "language_info": {
   "codemirror_mode": {
    "name": "ipython",
    "version": 3
   },
   "file_extension": ".py",
   "mimetype": "text/x-python",
   "name": "python",
   "nbconvert_exporter": "python",
   "pygments_lexer": "ipython3",
   "version": "3.9.6"
  }
 },
 "nbformat": 4,
 "nbformat_minor": 5
}
