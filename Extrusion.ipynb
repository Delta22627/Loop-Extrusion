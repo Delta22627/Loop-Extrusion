{
 "cells": [
  {
   "cell_type": "code",
   "execution_count": null,
   "id": "a410ef1a-38b3-4c59-8d5f-b523d851fb53",
   "metadata": {},
   "outputs": [],
   "source": [
    "import numpy as np\n",
    "import matplotlib.pyplot as plt\n",
    "import seaborn as sns\n",
    "from multiprocessing import Pool\n",
    "import pickle\n",
    "from enum import Enum"
   ]
  },
  {
   "cell_type": "code",
   "execution_count": null,
   "id": "018ee82c-4fbf-4c23-9a08-b90ff922e924",
   "metadata": {},
   "outputs": [],
   "source": [
    "#make observer"
   ]
  },
  {
   "cell_type": "code",
   "execution_count": null,
   "id": "2525e024-3035-4675-96ea-3c531adbb5af",
   "metadata": {},
   "outputs": [],
   "source": [
    "class Genome:\n",
    "        \n",
    "    def __init__(self, seed, length=10000, cohesin_stopper_p=0.05, condensin_stopper_p=0.3):\n",
    "        np.random.default_rng(seed)\n",
    "        no_stopper_p = 1 - cohesin_stopper_p - condensin_stopper_p\n",
    "        ## change this to every x in N length\n",
    "        # self.array = np.random.choice([0, 1, 2], \n",
    "        #                               size=length, \n",
    "        #                               p=[no_stopper_p, \n",
    "        #                                  cohesin_stopper_p, \n",
    "        #                                  condensin_stopper_p])\n",
    "        self.occupited = np.zeros(length, dtype=bool)\n",
    "        \n",
    "    def get_length(self):\n",
    "        return len(self.array)\n",
    "        \n",
    "    def get_array(self):\n",
    "        return self.array\n",
    "    \n",
    "    def is_occupited(self, index):\n",
    "        return self.occupited[index]\n",
    "    \n",
    "    def update_occupited(self, index, status=True):\n",
    "        self.occupited[index] = status\n",
    "        \n",
    "    def __str__(self):\n",
    "        return str(self.array)\n",
    "            \n",
    "        "
   ]
  },
  {
   "cell_type": "code",
   "execution_count": null,
   "id": "883e5e04-dc2f-48b0-8dc6-61f4fd7deba2",
   "metadata": {},
   "outputs": [],
   "source": [
    "class Extruder:\n",
    "    \n",
    "    def __init__(self, stalling_prob):\n",
    "        self.stalling_prob = stalling_prob\n",
    "        \n",
    "        self.active = True\n",
    "        self.left = True\n",
    "        self.right = True\n",
    "        self.bind = False\n",
    "        \n",
    "        self.current_left = None\n",
    "        self.current_right = None\n",
    "        \n",
    "    def set_direction(self, index, direction):\n",
    "        if self.left and direction == \"left\":\n",
    "            self.current_left = index\n",
    "        elif self.right and direction == \"right\":\n",
    "            self.current_right = index\n",
    "\n",
    "    def set_direction_status(self, boolean, direction):\n",
    "        if direction == \"left\":\n",
    "            self.left = boolean\n",
    "        elif direction == \"right\":\n",
    "            self.right = boolean\n",
    "        self.is_active()\n",
    "        \n",
    "    def get_direction_status(self, direction):\n",
    "        if direction == \"left\":\n",
    "            return self.left\n",
    "        elif direction == \"right\":\n",
    "            return self.right\n",
    "        \n",
    "    def is_active(self):\n",
    "        self.active = (self.left or self.right)\n",
    "        return self.active\n",
    "        \n",
    "    def is_bind(self):\n",
    "        return self.bind\n",
    "    \n",
    "    def bound(self):\n",
    "        self.bind = True\n",
    "        \n",
    "    def get_position(self):\n",
    "        return self.current_left, self.current_right\n",
    "    "
   ]
  },
  {
   "cell_type": "code",
   "execution_count": null,
   "id": "ea14d167-0d7a-4e4c-a7c6-cd284697d541",
   "metadata": {},
   "outputs": [],
   "source": [
    "class Cohesin(Extruder):\n",
    "    \n",
    "    def stop_i(self):\n",
    "        return 1\n",
    "    \n",
    "    def color(self):\n",
    "        return \"b\"\n",
    "    \n",
    "    def __str__(self):\n",
    "        return f\"Cohesin at {self.get_position()}\""
   ]
  },
  {
   "cell_type": "code",
   "execution_count": null,
   "id": "8f5d6340-e2f7-49bb-9fae-708aa1aad32c",
   "metadata": {},
   "outputs": [],
   "source": [
    "class Condensin(Extruder):\n",
    "    \n",
    "    def stop_i(self):\n",
    "        return 2\n",
    "    \n",
    "    def color(self):\n",
    "        return \"r\"\n",
    "    \n",
    "    def __str__(self):\n",
    "        return f\"Condensin at {self.get_position()}\""
   ]
  },
  {
   "cell_type": "code",
   "execution_count": null,
   "id": "b0add262-fba9-4e39-b7d8-b45882615096",
   "metadata": {},
   "outputs": [],
   "source": [
    "class ExtruderType(Enum):\n",
    "    COHESIN = 1\n",
    "    CONDENSIN = 2"
   ]
  },
  {
   "cell_type": "code",
   "execution_count": null,
   "id": "b120b4a2-93db-418d-a267-21c89d39000c",
   "metadata": {},
   "outputs": [],
   "source": [
    "class ExtruderFactory:\n",
    "    \n",
    "    def get(e_type, stalling_prob=1):\n",
    "        \n",
    "        return {\n",
    "            ExtruderType.COHESIN: Cohesin(stalling_prob),\n",
    "            ExtruderType.CONDENSIN: Condensin(stalling_prob)\n",
    "        }.get(e_type,0)"
   ]
  },
  {
   "cell_type": "code",
   "execution_count": null,
   "id": "409a7d73-15e5-4131-9717-aa35998a479b",
   "metadata": {},
   "outputs": [],
   "source": [
    "class Simulator:\n",
    "    \n",
    "    def __init__(self, genome, seed, n_extruders=1000, per_i=10, option=\"cohesin\"): \n",
    "        np.random.seed(seed)\n",
    "        self.genome = genome\n",
    "        self.genome_length = genome.get_length()\n",
    "        self.extruder_factory = ExtruderFactory\n",
    "        self.extruders = self._check_option(n_extruders, option)\n",
    "        self.extruders_per_i = int(n_extruders/per_i)\n",
    "        self.bound = np.zeros(self.genome_length, dtype=bool)\n",
    "        self.unbound = np.zeros(self.genome_length, dtype=bool)\n",
    "        self.n_bound = list()\n",
    "        self.n_active = list()\n",
    "        self.time = 0\n",
    "        \n",
    "    def simulate(self, time):\n",
    "        self.time += time\n",
    "        for i in range(time):\n",
    "            self._simulate_one_step(i)\n",
    "            self.n_bound.append(np.sum(self.bound))\n",
    "            self.n_active.append(np.sum([e.is_active() for e in self.extruders]))\n",
    "    \n",
    "    def plot(self):\n",
    "        ts = np.arange(self.time)\n",
    "        plt.plot(ts, self.n_bound, label=\"bound\")\n",
    "        plt.plot(ts, self.n_active, label=\"active\")\n",
    "    \n",
    "    def plot_fold(self):\n",
    "        for i, e in enumerate(self.extruders):\n",
    "            start, end = e.get_position()\n",
    "            if start != None and end != None:\n",
    "                xs = np.linspace(start,end)\n",
    "                ys = np.full(len(xs) ,i)\n",
    "                plt.plot(xs, ys, c = e.color())\n",
    "            \n",
    "        \n",
    "    def _simulate_one_step(self, i):\n",
    "        if i*self.extruders_per_i < len(self.extruders):\n",
    "            start_sites = self._get_start_sites(self.extruders_per_i)\n",
    "            for site, index in enumerate(range(i*self.extruders_per_i, (i+1)*self.extruders_per_i)):\n",
    "                l_site = start_sites[site]\n",
    "                self._sim_one_helper(l_site, index, False)\n",
    "        start_sites = self._get_start_sites(np.sum(self.unbound))\n",
    "        try:\n",
    "            current_unbound = np.nditer(np.where(self.unbound))\n",
    "            for site, index in enumerate(current_unbound):\n",
    "                l_site = start_sites[site]\n",
    "                self._sim_one_helper(l_site, index, True)   \n",
    "        except ValueError:\n",
    "            pass\n",
    "        self._extrude()\n",
    "        \n",
    "    def _sim_one_helper(self, l_site, index, second):\n",
    "        r_site = l_site + 1\n",
    "        extruder = self.extruders[index]\n",
    "        if not (self.genome.is_occupited(l_site) or self.genome.is_occupited(r_site)):\n",
    "            extruder.set_direction(l_site, \"left\")\n",
    "            extruder.set_direction(r_site, \"right\")\n",
    "            self.genome.update_occupited(l_site)\n",
    "            self.genome.update_occupited(r_site)\n",
    "            extruder.bound()\n",
    "            self.bound[index] = True\n",
    "            if second:\n",
    "                self.unbound[index] = False\n",
    "            return None\n",
    "        if not second:\n",
    "            self.unbound[index] = True\n",
    "        \n",
    "    def _extrude(self):\n",
    "        for i in np.nditer(np.where(self.bound)):\n",
    "            extruder = self.extruders[i]\n",
    "            left, right = extruder.get_position()\n",
    "            n_left = left-1\n",
    "            n_right = right+1\n",
    "            if n_left < 0:\n",
    "                extruder.set_direction_status(False, \"left\")\n",
    "            if n_right >= self.genome_length:\n",
    "                extruder.set_direction_status(False, \"right\")\n",
    "            if extruder.get_direction_status(\"left\"):\n",
    "                self._set_direction(extruder, left, n_left, \"left\")\n",
    "            if extruder.get_direction_status(\"right\"):\n",
    "                self._set_direction(extruder, right, n_right, \"right\")\n",
    "    \n",
    "    def _set_direction(self, extruder, current, i, direction):\n",
    "        if not self.genome.is_occupited(i):\n",
    "            dissociate_prob = np.random.random()\n",
    "            extruder.set_direction(i, direction)\n",
    "            self.genome.update_occupited(i, True)\n",
    "            self.genome.update_occupited(current, False)\n",
    "            if (self.genome.array[i] == extruder.stop_i()) and (extruder.stalling_prob > dissociate_prob):\n",
    "                extruder.set_direction_status(False, direction)\n",
    "        elif self.genome.is_occupited(i):\n",
    "            extruder.set_direction_status(False, direction)\n",
    "                                     \n",
    "                            \n",
    "    def _check_option(self, n_extruder, option):\n",
    "        choices = {\n",
    "            \"cohesin\" : [self.extruder_factory.get(ExtruderType.COHESIN) for i in range(int(n_extruder))],\n",
    "            \"both\" : [self.extruder_factory.get(ExtruderType.COHESIN) for i in range(int(n_extruder//2))],\n",
    "            \"both_0.2\" : [self.extruder_factory.get(ExtruderType.COHESIN, 0.2) for i in range(int(n_extruder//2))]\n",
    "        } \n",
    "        choices[\"both\"].extend([self.extruder_factory.get(ExtruderType.CONDENSIN) for i in range(int(n_extruder//2))])\n",
    "        choices[\"both_0.2\"].extend([self.extruder_factory.get(ExtruderType.CONDENSIN, 0.2) for i in range(int(n_extruder//2))])\n",
    "        np.random.shuffle(choices[option])\n",
    "        return choices[option]\n",
    "        \n",
    "    def _get_start_sites(self,extruders_per_i):\n",
    "        return np.random.randint(0, self.genome_length-2, extruders_per_i)\n",
    "          \n",
    "    "
   ]
  },
  {
   "cell_type": "code",
   "execution_count": null,
   "id": "c73517f9-a692-46f0-8146-30ca5e223451",
   "metadata": {},
   "outputs": [],
   "source": [
    "for i in range(10):\n",
    "    sim = Simulator(Genome(1),i)\n",
    "    sim.simulate(50)\n",
    "    sim.plot()\n",
    "# plt.legend()\n",
    "plt.show()"
   ]
  },
  {
   "cell_type": "code",
   "execution_count": null,
   "id": "71284d3a-28ce-4767-a92b-afa3e15a7c69",
   "metadata": {},
   "outputs": [],
   "source": [
    "sim = Simulator(Genome(1),1)\n",
    "sim.simulate(50)\n",
    "sim.plot()\n",
    "print(sim.n_bound[-1])\n",
    "print(sim.n_active[-1])\n",
    "print(sum(sim.unbound))\n",
    "plt.legend()\n",
    "plt.show()"
   ]
  },
  {
   "cell_type": "code",
   "execution_count": null,
   "id": "5546e400-0faa-4a84-b16e-ec69c0925dce",
   "metadata": {},
   "outputs": [],
   "source": [
    "for i in range(1,11):    \n",
    "    sim = Simulator(Genome(1),1, n_extruders=i*1000, option=\"both\")\n",
    "    sim.simulate(50)\n",
    "    sim.plot()\n",
    "    print(sim.n_bound[-1])\n",
    "    print(sim.n_active[-1])\n",
    "    print(sum(sim.unbound))\n",
    "    plt.legend()\n",
    "    plt.show()"
   ]
  },
  {
   "cell_type": "code",
   "execution_count": null,
   "id": "9ca85863-16f7-42b3-8407-675e6dbe0d4e",
   "metadata": {},
   "outputs": [],
   "source": [
    "np.random.seed(27)\n",
    "sim = Simulator(Genome(1),1, n_extruders=100, option=\"both\")\n",
    "sim.simulate(50)\n",
    "sim.plot()\n",
    "print(sim.n_bound[-1])\n",
    "print(sim.n_active[-1])\n",
    "print(sum(sim.unbound))\n",
    "plt.legend()\n",
    "plt.show()"
   ]
  },
  {
   "cell_type": "code",
   "execution_count": null,
   "id": "260a7fbd-2820-43fd-baca-7fd4ee26c3a6",
   "metadata": {},
   "outputs": [],
   "source": [
    "plt.figure(figsize=(20, 3), dpi=80)\n",
    "sim.plot_fold()"
   ]
  },
  {
   "cell_type": "code",
   "execution_count": null,
   "id": "0b48f8fc-d73c-4a62-90cf-03730296b182",
   "metadata": {},
   "outputs": [],
   "source": [
    "np.random.seed(27)\n",
    "sim = Simulator(Genome(1),1, n_extruders=100, option=\"both_0.2\")\n",
    "sim.simulate(50)\n",
    "sim.plot()\n",
    "print(sim.n_bound[-1])\n",
    "print(sim.n_active[-1])\n",
    "print(sum(sim.unbound))\n",
    "plt.legend()\n",
    "plt.show()"
   ]
  },
  {
   "cell_type": "code",
   "execution_count": null,
   "id": "5918cfc1-2f13-43d6-abd6-e40a08b02581",
   "metadata": {},
   "outputs": [],
   "source": [
    "plt.figure(figsize=(20, 3), dpi=80)\n",
    "sim.plot_fold()"
   ]
  },
  {
   "cell_type": "code",
   "execution_count": null,
   "id": "5038faa1-104b-4e13-9aa5-f6d72455a708",
   "metadata": {},
   "outputs": [],
   "source": []
  },
  {
   "cell_type": "code",
   "execution_count": null,
   "id": "4938c376-0d59-4848-9b8b-d01a30d3ef9f",
   "metadata": {},
   "outputs": [],
   "source": [
    "np.random.seed(27)\n",
    "sim = Simulator(Genome(1),1, n_extruders=1, per_i=1)\n",
    "sim.simulate(1000)\n",
    "sim.plot()\n",
    "print(sim.n_bound[-1])\n",
    "print(sim.n_active[-1])\n",
    "print(sum(sim.unbound))\n",
    "plt.legend()\n",
    "plt.show()"
   ]
  },
  {
   "cell_type": "code",
   "execution_count": null,
   "id": "4cd1c111-1acd-46fc-8c75-ea7398f351f1",
   "metadata": {},
   "outputs": [],
   "source": [
    "np.where(sim.genome.occupited)"
   ]
  },
  {
   "cell_type": "code",
   "execution_count": null,
   "id": "0875ea66-75ca-442d-a52a-157b38746121",
   "metadata": {},
   "outputs": [],
   "source": [
    "sim.genome.array[186:285]"
   ]
  },
  {
   "cell_type": "code",
   "execution_count": null,
   "id": "6ff5d186-59fb-4baa-a6ea-402e832a69b6",
   "metadata": {},
   "outputs": [],
   "source": [
    "plt.figure(figsize=(20, 3), dpi=80)\n",
    "sim.plot_fold()"
   ]
  },
  {
   "cell_type": "code",
   "execution_count": null,
   "id": "31ce9e2a-7410-4b8f-888b-bafed07b8a09",
   "metadata": {},
   "outputs": [],
   "source": [
    "sim.extruders[0].right"
   ]
  },
  {
   "cell_type": "code",
   "execution_count": null,
   "id": "b677c932-ebd7-474f-ad67-dbef62c1f9d0",
   "metadata": {},
   "outputs": [],
   "source": [
    "sim.extruders[0].left"
   ]
  },
  {
   "cell_type": "code",
   "execution_count": null,
   "id": "f2fe9a58-ff4f-4e40-bb11-10a66c4e6634",
   "metadata": {},
   "outputs": [],
   "source": [
    "np.random.seed(27)\n",
    "sim = Simulator(Genome(1),1, n_extruders=2, per_i=1, option=\"both_0.2\")\n",
    "sim.simulate(1000)\n",
    "sim.plot()\n",
    "print(sim.n_bound[-1])\n",
    "print(sim.n_active[-1])\n",
    "print(sum(sim.unbound))\n",
    "plt.legend()\n",
    "plt.show()"
   ]
  },
  {
   "cell_type": "code",
   "execution_count": null,
   "id": "0b4a33df-7db9-4af0-b672-883ffd7bdf0f",
   "metadata": {},
   "outputs": [],
   "source": [
    "plt.figure(figsize=(20, 3), dpi=80)\n",
    "sim.plot_fold()"
   ]
  },
  {
   "cell_type": "code",
   "execution_count": null,
   "id": "45bfef8c-5339-4d1e-947c-0385acb19cd4",
   "metadata": {},
   "outputs": [],
   "source": [
    "np.where(sim.genome.occupited)"
   ]
  },
  {
   "cell_type": "code",
   "execution_count": null,
   "id": "b83cf821-4850-4c6a-9db4-6630b26fd037",
   "metadata": {},
   "outputs": [],
   "source": [
    "sim.genome.array[162:357]"
   ]
  },
  {
   "cell_type": "code",
   "execution_count": null,
   "id": "aaacfa5a-0b65-43d4-8b26-ea80d6b328e3",
   "metadata": {},
   "outputs": [],
   "source": [
    "sim.genome.array[5185:5206]"
   ]
  },
  {
   "cell_type": "code",
   "execution_count": null,
   "id": "70d37a8c-df71-4e12-b064-f28f005b4032",
   "metadata": {},
   "outputs": [],
   "source": []
  }
 ],
 "metadata": {
  "kernelspec": {
   "display_name": "Python [conda env:tensorflow]",
   "language": "python",
   "name": "conda-env-tensorflow-py"
  },
  "language_info": {
   "codemirror_mode": {
    "name": "ipython",
    "version": 3
   },
   "file_extension": ".py",
   "mimetype": "text/x-python",
   "name": "python",
   "nbconvert_exporter": "python",
   "pygments_lexer": "ipython3",
   "version": "3.9.7"
  }
 },
 "nbformat": 4,
 "nbformat_minor": 5
}
